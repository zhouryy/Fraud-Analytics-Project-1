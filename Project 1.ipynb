{
 "cells": [
  {
   "cell_type": "code",
   "execution_count": 1,
   "metadata": {
    "ExecuteTime": {
     "end_time": "2021-02-08T17:31:55.138416Z",
     "start_time": "2021-02-08T17:31:53.306369Z"
    }
   },
   "outputs": [],
   "source": [
    "import pandas as pd\n",
    "from scipy import stats\n",
    "import numpy as np\n",
    "import time\n",
    "from sklearn.decomposition import PCA\n",
    "import matplotlib.pyplot as plt\n",
    "import seaborn as sns"
   ]
  },
  {
   "cell_type": "code",
   "execution_count": 2,
   "metadata": {
    "ExecuteTime": {
     "end_time": "2021-02-08T17:31:59.058653Z",
     "start_time": "2021-02-08T17:31:55.141409Z"
    }
   },
   "outputs": [
    {
     "data": {
      "text/html": [
       "<div>\n",
       "<style scoped>\n",
       "    .dataframe tbody tr th:only-of-type {\n",
       "        vertical-align: middle;\n",
       "    }\n",
       "\n",
       "    .dataframe tbody tr th {\n",
       "        vertical-align: top;\n",
       "    }\n",
       "\n",
       "    .dataframe thead th {\n",
       "        text-align: right;\n",
       "    }\n",
       "</style>\n",
       "<table border=\"1\" class=\"dataframe\">\n",
       "  <thead>\n",
       "    <tr style=\"text-align: right;\">\n",
       "      <th></th>\n",
       "      <th>RECORD</th>\n",
       "      <th>BBLE</th>\n",
       "      <th>B</th>\n",
       "      <th>BLOCK</th>\n",
       "      <th>LOT</th>\n",
       "      <th>EASEMENT</th>\n",
       "      <th>OWNER</th>\n",
       "      <th>BLDGCL</th>\n",
       "      <th>TAXCLASS</th>\n",
       "      <th>LTFRONT</th>\n",
       "      <th>...</th>\n",
       "      <th>BLDFRONT</th>\n",
       "      <th>BLDDEPTH</th>\n",
       "      <th>AVLAND2</th>\n",
       "      <th>AVTOT2</th>\n",
       "      <th>EXLAND2</th>\n",
       "      <th>EXTOT2</th>\n",
       "      <th>EXCD2</th>\n",
       "      <th>PERIOD</th>\n",
       "      <th>YEAR</th>\n",
       "      <th>VALTYPE</th>\n",
       "    </tr>\n",
       "  </thead>\n",
       "  <tbody>\n",
       "    <tr>\n",
       "      <th>0</th>\n",
       "      <td>1</td>\n",
       "      <td>1000010101</td>\n",
       "      <td>1</td>\n",
       "      <td>1</td>\n",
       "      <td>101</td>\n",
       "      <td>NaN</td>\n",
       "      <td>U S GOVT LAND &amp; BLDGS</td>\n",
       "      <td>P7</td>\n",
       "      <td>4</td>\n",
       "      <td>500</td>\n",
       "      <td>...</td>\n",
       "      <td>0</td>\n",
       "      <td>0</td>\n",
       "      <td>3775500.0</td>\n",
       "      <td>8613000.0</td>\n",
       "      <td>3775500.0</td>\n",
       "      <td>8613000.0</td>\n",
       "      <td>NaN</td>\n",
       "      <td>FINAL</td>\n",
       "      <td>2010/11</td>\n",
       "      <td>AC-TR</td>\n",
       "    </tr>\n",
       "    <tr>\n",
       "      <th>1</th>\n",
       "      <td>2</td>\n",
       "      <td>1000010201</td>\n",
       "      <td>1</td>\n",
       "      <td>1</td>\n",
       "      <td>201</td>\n",
       "      <td>NaN</td>\n",
       "      <td>U S GOVT LAND &amp; BLDGS</td>\n",
       "      <td>Z9</td>\n",
       "      <td>4</td>\n",
       "      <td>27</td>\n",
       "      <td>...</td>\n",
       "      <td>0</td>\n",
       "      <td>0</td>\n",
       "      <td>11111400.0</td>\n",
       "      <td>80690400.0</td>\n",
       "      <td>11111400.0</td>\n",
       "      <td>80690400.0</td>\n",
       "      <td>NaN</td>\n",
       "      <td>FINAL</td>\n",
       "      <td>2010/11</td>\n",
       "      <td>AC-TR</td>\n",
       "    </tr>\n",
       "    <tr>\n",
       "      <th>2</th>\n",
       "      <td>3</td>\n",
       "      <td>1000020001</td>\n",
       "      <td>1</td>\n",
       "      <td>2</td>\n",
       "      <td>1</td>\n",
       "      <td>NaN</td>\n",
       "      <td>DEPT OF GENERAL SERVI</td>\n",
       "      <td>Y7</td>\n",
       "      <td>4</td>\n",
       "      <td>709</td>\n",
       "      <td>...</td>\n",
       "      <td>709</td>\n",
       "      <td>564</td>\n",
       "      <td>32321790.0</td>\n",
       "      <td>40179510.0</td>\n",
       "      <td>32321790.0</td>\n",
       "      <td>40179510.0</td>\n",
       "      <td>NaN</td>\n",
       "      <td>FINAL</td>\n",
       "      <td>2010/11</td>\n",
       "      <td>AC-TR</td>\n",
       "    </tr>\n",
       "    <tr>\n",
       "      <th>3</th>\n",
       "      <td>4</td>\n",
       "      <td>1000020023</td>\n",
       "      <td>1</td>\n",
       "      <td>2</td>\n",
       "      <td>23</td>\n",
       "      <td>NaN</td>\n",
       "      <td>DEPARTMENT OF BUSINES</td>\n",
       "      <td>T2</td>\n",
       "      <td>4</td>\n",
       "      <td>793</td>\n",
       "      <td>...</td>\n",
       "      <td>85</td>\n",
       "      <td>551</td>\n",
       "      <td>13644000.0</td>\n",
       "      <td>15750000.0</td>\n",
       "      <td>13644000.0</td>\n",
       "      <td>15750000.0</td>\n",
       "      <td>NaN</td>\n",
       "      <td>FINAL</td>\n",
       "      <td>2010/11</td>\n",
       "      <td>AC-TR</td>\n",
       "    </tr>\n",
       "    <tr>\n",
       "      <th>4</th>\n",
       "      <td>5</td>\n",
       "      <td>1000030001</td>\n",
       "      <td>1</td>\n",
       "      <td>3</td>\n",
       "      <td>1</td>\n",
       "      <td>NaN</td>\n",
       "      <td>PARKS AND RECREATION</td>\n",
       "      <td>Q1</td>\n",
       "      <td>4</td>\n",
       "      <td>323</td>\n",
       "      <td>...</td>\n",
       "      <td>89</td>\n",
       "      <td>57</td>\n",
       "      <td>106348680.0</td>\n",
       "      <td>107758350.0</td>\n",
       "      <td>106348680.0</td>\n",
       "      <td>107758350.0</td>\n",
       "      <td>NaN</td>\n",
       "      <td>FINAL</td>\n",
       "      <td>2010/11</td>\n",
       "      <td>AC-TR</td>\n",
       "    </tr>\n",
       "  </tbody>\n",
       "</table>\n",
       "<p>5 rows × 32 columns</p>\n",
       "</div>"
      ],
      "text/plain": [
       "   RECORD        BBLE  B  BLOCK  LOT EASEMENT                  OWNER BLDGCL  \\\n",
       "0       1  1000010101  1      1  101      NaN  U S GOVT LAND & BLDGS     P7   \n",
       "1       2  1000010201  1      1  201      NaN  U S GOVT LAND & BLDGS     Z9   \n",
       "2       3  1000020001  1      2    1      NaN  DEPT OF GENERAL SERVI     Y7   \n",
       "3       4  1000020023  1      2   23      NaN  DEPARTMENT OF BUSINES     T2   \n",
       "4       5  1000030001  1      3    1      NaN   PARKS AND RECREATION     Q1   \n",
       "\n",
       "  TAXCLASS  LTFRONT  ...  BLDFRONT BLDDEPTH      AVLAND2       AVTOT2  \\\n",
       "0        4      500  ...         0        0    3775500.0    8613000.0   \n",
       "1        4       27  ...         0        0   11111400.0   80690400.0   \n",
       "2        4      709  ...       709      564   32321790.0   40179510.0   \n",
       "3        4      793  ...        85      551   13644000.0   15750000.0   \n",
       "4        4      323  ...        89       57  106348680.0  107758350.0   \n",
       "\n",
       "       EXLAND2       EXTOT2  EXCD2  PERIOD     YEAR VALTYPE  \n",
       "0    3775500.0    8613000.0    NaN   FINAL  2010/11   AC-TR  \n",
       "1   11111400.0   80690400.0    NaN   FINAL  2010/11   AC-TR  \n",
       "2   32321790.0   40179510.0    NaN   FINAL  2010/11   AC-TR  \n",
       "3   13644000.0   15750000.0    NaN   FINAL  2010/11   AC-TR  \n",
       "4  106348680.0  107758350.0    NaN   FINAL  2010/11   AC-TR  \n",
       "\n",
       "[5 rows x 32 columns]"
      ]
     },
     "execution_count": 2,
     "metadata": {},
     "output_type": "execute_result"
    }
   ],
   "source": [
    "ny_property = pd.read_csv('NY property data.csv')\n",
    "ny_prop = ny_property.copy()\n",
    "ny_property.head()"
   ]
  },
  {
   "cell_type": "code",
   "execution_count": 3,
   "metadata": {
    "ExecuteTime": {
     "end_time": "2021-02-08T17:31:59.067421Z",
     "start_time": "2021-02-08T17:31:59.061373Z"
    }
   },
   "outputs": [],
   "source": [
    "def resumetable(df):\n",
    "    print(f\"Dataset Shape: {df.shape}\")\n",
    "    summary = pd.DataFrame(df.dtypes,columns=['dtypes'])\n",
    "    summary = summary.reset_index()\n",
    "    summary['Name'] = summary['index']\n",
    "    summary = summary[['Name','dtypes']]\n",
    "    summary['Missing'] = df.isnull().sum().values    \n",
    "    summary['Uniques'] = df.nunique().values\n",
    "    for name in summary['Name'].value_counts().index:\n",
    "        summary.loc[summary['Name'] == name, 'Entropy'] = round(stats.entropy(df[name].value_counts(normalize=True), base=2),2) \n",
    "        summary.loc[summary['Name'] == name,'Most Common Field Value']=df[name].value_counts().index[0]\n",
    "\n",
    "    return summary"
   ]
  },
  {
   "cell_type": "code",
   "execution_count": 4,
   "metadata": {
    "ExecuteTime": {
     "end_time": "2021-02-08T17:32:09.449058Z",
     "start_time": "2021-02-08T17:31:59.069246Z"
    },
    "scrolled": false
   },
   "outputs": [
    {
     "name": "stdout",
     "output_type": "stream",
     "text": [
      "Dataset Shape: (1070994, 32)\n"
     ]
    },
    {
     "data": {
      "text/html": [
       "<div>\n",
       "<style scoped>\n",
       "    .dataframe tbody tr th:only-of-type {\n",
       "        vertical-align: middle;\n",
       "    }\n",
       "\n",
       "    .dataframe tbody tr th {\n",
       "        vertical-align: top;\n",
       "    }\n",
       "\n",
       "    .dataframe thead th {\n",
       "        text-align: right;\n",
       "    }\n",
       "</style>\n",
       "<table border=\"1\" class=\"dataframe\">\n",
       "  <thead>\n",
       "    <tr style=\"text-align: right;\">\n",
       "      <th></th>\n",
       "      <th>Name</th>\n",
       "      <th>dtypes</th>\n",
       "      <th>Missing</th>\n",
       "      <th>Uniques</th>\n",
       "      <th>Entropy</th>\n",
       "      <th>Most Common Field Value</th>\n",
       "    </tr>\n",
       "  </thead>\n",
       "  <tbody>\n",
       "    <tr>\n",
       "      <th>0</th>\n",
       "      <td>RECORD</td>\n",
       "      <td>int64</td>\n",
       "      <td>0</td>\n",
       "      <td>1070994</td>\n",
       "      <td>20.03</td>\n",
       "      <td>2047</td>\n",
       "    </tr>\n",
       "    <tr>\n",
       "      <th>1</th>\n",
       "      <td>BBLE</td>\n",
       "      <td>object</td>\n",
       "      <td>0</td>\n",
       "      <td>1070994</td>\n",
       "      <td>20.03</td>\n",
       "      <td>5015970105</td>\n",
       "    </tr>\n",
       "    <tr>\n",
       "      <th>2</th>\n",
       "      <td>B</td>\n",
       "      <td>int64</td>\n",
       "      <td>0</td>\n",
       "      <td>5</td>\n",
       "      <td>2.15</td>\n",
       "      <td>4</td>\n",
       "    </tr>\n",
       "    <tr>\n",
       "      <th>3</th>\n",
       "      <td>BLOCK</td>\n",
       "      <td>int64</td>\n",
       "      <td>0</td>\n",
       "      <td>13984</td>\n",
       "      <td>13.13</td>\n",
       "      <td>3944</td>\n",
       "    </tr>\n",
       "    <tr>\n",
       "      <th>4</th>\n",
       "      <td>LOT</td>\n",
       "      <td>int64</td>\n",
       "      <td>0</td>\n",
       "      <td>6366</td>\n",
       "      <td>8.31</td>\n",
       "      <td>1</td>\n",
       "    </tr>\n",
       "    <tr>\n",
       "      <th>5</th>\n",
       "      <td>EASEMENT</td>\n",
       "      <td>object</td>\n",
       "      <td>1066358</td>\n",
       "      <td>12</td>\n",
       "      <td>0.68</td>\n",
       "      <td>E</td>\n",
       "    </tr>\n",
       "    <tr>\n",
       "      <th>6</th>\n",
       "      <td>OWNER</td>\n",
       "      <td>object</td>\n",
       "      <td>31745</td>\n",
       "      <td>863347</td>\n",
       "      <td>19.29</td>\n",
       "      <td>PARKCHESTER PRESERVAT</td>\n",
       "    </tr>\n",
       "    <tr>\n",
       "      <th>7</th>\n",
       "      <td>BLDGCL</td>\n",
       "      <td>object</td>\n",
       "      <td>0</td>\n",
       "      <td>200</td>\n",
       "      <td>4.75</td>\n",
       "      <td>R4</td>\n",
       "    </tr>\n",
       "    <tr>\n",
       "      <th>8</th>\n",
       "      <td>TAXCLASS</td>\n",
       "      <td>object</td>\n",
       "      <td>0</td>\n",
       "      <td>11</td>\n",
       "      <td>1.81</td>\n",
       "      <td>1</td>\n",
       "    </tr>\n",
       "    <tr>\n",
       "      <th>9</th>\n",
       "      <td>LTFRONT</td>\n",
       "      <td>int64</td>\n",
       "      <td>0</td>\n",
       "      <td>1297</td>\n",
       "      <td>5.09</td>\n",
       "      <td>0</td>\n",
       "    </tr>\n",
       "    <tr>\n",
       "      <th>10</th>\n",
       "      <td>LTDEPTH</td>\n",
       "      <td>int64</td>\n",
       "      <td>0</td>\n",
       "      <td>1370</td>\n",
       "      <td>4.25</td>\n",
       "      <td>100</td>\n",
       "    </tr>\n",
       "    <tr>\n",
       "      <th>11</th>\n",
       "      <td>EXT</td>\n",
       "      <td>object</td>\n",
       "      <td>716689</td>\n",
       "      <td>3</td>\n",
       "      <td>1.05</td>\n",
       "      <td>G</td>\n",
       "    </tr>\n",
       "    <tr>\n",
       "      <th>12</th>\n",
       "      <td>STORIES</td>\n",
       "      <td>float64</td>\n",
       "      <td>56264</td>\n",
       "      <td>111</td>\n",
       "      <td>3.43</td>\n",
       "      <td>2</td>\n",
       "    </tr>\n",
       "    <tr>\n",
       "      <th>13</th>\n",
       "      <td>FULLVAL</td>\n",
       "      <td>float64</td>\n",
       "      <td>0</td>\n",
       "      <td>109324</td>\n",
       "      <td>12.06</td>\n",
       "      <td>0</td>\n",
       "    </tr>\n",
       "    <tr>\n",
       "      <th>14</th>\n",
       "      <td>AVLAND</td>\n",
       "      <td>float64</td>\n",
       "      <td>0</td>\n",
       "      <td>70921</td>\n",
       "      <td>14.62</td>\n",
       "      <td>0</td>\n",
       "    </tr>\n",
       "    <tr>\n",
       "      <th>15</th>\n",
       "      <td>AVTOT</td>\n",
       "      <td>float64</td>\n",
       "      <td>0</td>\n",
       "      <td>112914</td>\n",
       "      <td>13.69</td>\n",
       "      <td>0</td>\n",
       "    </tr>\n",
       "    <tr>\n",
       "      <th>16</th>\n",
       "      <td>EXLAND</td>\n",
       "      <td>float64</td>\n",
       "      <td>0</td>\n",
       "      <td>33419</td>\n",
       "      <td>3.91</td>\n",
       "      <td>0</td>\n",
       "    </tr>\n",
       "    <tr>\n",
       "      <th>17</th>\n",
       "      <td>EXTOT</td>\n",
       "      <td>float64</td>\n",
       "      <td>0</td>\n",
       "      <td>64255</td>\n",
       "      <td>4.92</td>\n",
       "      <td>0</td>\n",
       "    </tr>\n",
       "    <tr>\n",
       "      <th>18</th>\n",
       "      <td>EXCD1</td>\n",
       "      <td>float64</td>\n",
       "      <td>432506</td>\n",
       "      <td>129</td>\n",
       "      <td>2.24</td>\n",
       "      <td>1017</td>\n",
       "    </tr>\n",
       "    <tr>\n",
       "      <th>19</th>\n",
       "      <td>STADDR</td>\n",
       "      <td>object</td>\n",
       "      <td>676</td>\n",
       "      <td>839280</td>\n",
       "      <td>18.75</td>\n",
       "      <td>501 SURF AVENUE</td>\n",
       "    </tr>\n",
       "    <tr>\n",
       "      <th>20</th>\n",
       "      <td>ZIP</td>\n",
       "      <td>float64</td>\n",
       "      <td>29890</td>\n",
       "      <td>196</td>\n",
       "      <td>7.15</td>\n",
       "      <td>10314</td>\n",
       "    </tr>\n",
       "    <tr>\n",
       "      <th>21</th>\n",
       "      <td>EXMPTCL</td>\n",
       "      <td>object</td>\n",
       "      <td>1055415</td>\n",
       "      <td>14</td>\n",
       "      <td>2.11</td>\n",
       "      <td>X1</td>\n",
       "    </tr>\n",
       "    <tr>\n",
       "      <th>22</th>\n",
       "      <td>BLDFRONT</td>\n",
       "      <td>int64</td>\n",
       "      <td>0</td>\n",
       "      <td>612</td>\n",
       "      <td>4.36</td>\n",
       "      <td>0</td>\n",
       "    </tr>\n",
       "    <tr>\n",
       "      <th>23</th>\n",
       "      <td>BLDDEPTH</td>\n",
       "      <td>int64</td>\n",
       "      <td>0</td>\n",
       "      <td>621</td>\n",
       "      <td>5.36</td>\n",
       "      <td>0</td>\n",
       "    </tr>\n",
       "    <tr>\n",
       "      <th>24</th>\n",
       "      <td>AVLAND2</td>\n",
       "      <td>float64</td>\n",
       "      <td>788268</td>\n",
       "      <td>58591</td>\n",
       "      <td>14.47</td>\n",
       "      <td>2408</td>\n",
       "    </tr>\n",
       "    <tr>\n",
       "      <th>25</th>\n",
       "      <td>AVTOT2</td>\n",
       "      <td>float64</td>\n",
       "      <td>788262</td>\n",
       "      <td>111360</td>\n",
       "      <td>15.83</td>\n",
       "      <td>750</td>\n",
       "    </tr>\n",
       "    <tr>\n",
       "      <th>26</th>\n",
       "      <td>EXLAND2</td>\n",
       "      <td>float64</td>\n",
       "      <td>983545</td>\n",
       "      <td>22195</td>\n",
       "      <td>10.15</td>\n",
       "      <td>2090</td>\n",
       "    </tr>\n",
       "    <tr>\n",
       "      <th>27</th>\n",
       "      <td>EXTOT2</td>\n",
       "      <td>float64</td>\n",
       "      <td>940166</td>\n",
       "      <td>48348</td>\n",
       "      <td>12.34</td>\n",
       "      <td>2090</td>\n",
       "    </tr>\n",
       "    <tr>\n",
       "      <th>28</th>\n",
       "      <td>EXCD2</td>\n",
       "      <td>float64</td>\n",
       "      <td>978046</td>\n",
       "      <td>60</td>\n",
       "      <td>1.50</td>\n",
       "      <td>1017</td>\n",
       "    </tr>\n",
       "    <tr>\n",
       "      <th>29</th>\n",
       "      <td>PERIOD</td>\n",
       "      <td>object</td>\n",
       "      <td>0</td>\n",
       "      <td>1</td>\n",
       "      <td>0.00</td>\n",
       "      <td>FINAL</td>\n",
       "    </tr>\n",
       "    <tr>\n",
       "      <th>30</th>\n",
       "      <td>YEAR</td>\n",
       "      <td>object</td>\n",
       "      <td>0</td>\n",
       "      <td>1</td>\n",
       "      <td>0.00</td>\n",
       "      <td>2010/11</td>\n",
       "    </tr>\n",
       "    <tr>\n",
       "      <th>31</th>\n",
       "      <td>VALTYPE</td>\n",
       "      <td>object</td>\n",
       "      <td>0</td>\n",
       "      <td>1</td>\n",
       "      <td>0.00</td>\n",
       "      <td>AC-TR</td>\n",
       "    </tr>\n",
       "  </tbody>\n",
       "</table>\n",
       "</div>"
      ],
      "text/plain": [
       "        Name   dtypes  Missing  Uniques  Entropy Most Common Field Value\n",
       "0     RECORD    int64        0  1070994    20.03                    2047\n",
       "1       BBLE   object        0  1070994    20.03              5015970105\n",
       "2          B    int64        0        5     2.15                       4\n",
       "3      BLOCK    int64        0    13984    13.13                    3944\n",
       "4        LOT    int64        0     6366     8.31                       1\n",
       "5   EASEMENT   object  1066358       12     0.68                       E\n",
       "6      OWNER   object    31745   863347    19.29   PARKCHESTER PRESERVAT\n",
       "7     BLDGCL   object        0      200     4.75                      R4\n",
       "8   TAXCLASS   object        0       11     1.81                       1\n",
       "9    LTFRONT    int64        0     1297     5.09                       0\n",
       "10   LTDEPTH    int64        0     1370     4.25                     100\n",
       "11       EXT   object   716689        3     1.05                       G\n",
       "12   STORIES  float64    56264      111     3.43                       2\n",
       "13   FULLVAL  float64        0   109324    12.06                       0\n",
       "14    AVLAND  float64        0    70921    14.62                       0\n",
       "15     AVTOT  float64        0   112914    13.69                       0\n",
       "16    EXLAND  float64        0    33419     3.91                       0\n",
       "17     EXTOT  float64        0    64255     4.92                       0\n",
       "18     EXCD1  float64   432506      129     2.24                    1017\n",
       "19    STADDR   object      676   839280    18.75         501 SURF AVENUE\n",
       "20       ZIP  float64    29890      196     7.15                   10314\n",
       "21   EXMPTCL   object  1055415       14     2.11                      X1\n",
       "22  BLDFRONT    int64        0      612     4.36                       0\n",
       "23  BLDDEPTH    int64        0      621     5.36                       0\n",
       "24   AVLAND2  float64   788268    58591    14.47                    2408\n",
       "25    AVTOT2  float64   788262   111360    15.83                     750\n",
       "26   EXLAND2  float64   983545    22195    10.15                    2090\n",
       "27    EXTOT2  float64   940166    48348    12.34                    2090\n",
       "28     EXCD2  float64   978046       60     1.50                    1017\n",
       "29    PERIOD   object        0        1     0.00                   FINAL\n",
       "30      YEAR   object        0        1     0.00                 2010/11\n",
       "31   VALTYPE   object        0        1     0.00                   AC-TR"
      ]
     },
     "execution_count": 4,
     "metadata": {},
     "output_type": "execute_result"
    }
   ],
   "source": [
    "# take a look at the general image of the data\n",
    "resumetable(ny_property)"
   ]
  },
  {
   "cell_type": "markdown",
   "metadata": {},
   "source": [
    "### Fill in Missing Value"
   ]
  },
  {
   "cell_type": "code",
   "execution_count": 5,
   "metadata": {
    "ExecuteTime": {
     "end_time": "2021-02-08T17:32:09.456887Z",
     "start_time": "2021-02-08T17:32:09.450964Z"
    }
   },
   "outputs": [
    {
     "data": {
      "text/plain": [
       "29890"
      ]
     },
     "execution_count": 5,
     "metadata": {},
     "output_type": "execute_result"
    }
   ],
   "source": [
    "#filling in missing value for ZIP\n",
    "missing_zips = np.where(pd.isnull(ny_property['ZIP']))[0]\n",
    "len(missing_zips)"
   ]
  },
  {
   "cell_type": "code",
   "execution_count": 6,
   "metadata": {
    "ExecuteTime": {
     "end_time": "2021-02-08T17:33:24.178907Z",
     "start_time": "2021-02-08T17:32:09.458464Z"
    }
   },
   "outputs": [],
   "source": [
    "# records are sorted by zip, hence if zip before and after the missing record is the same, \n",
    "# then fill in with that zip\n",
    "for i in range(len(missing_zips)):\n",
    "    if(ny_property.loc[missing_zips[i]+1,'ZIP'] == ny_property.loc[missing_zips[i]-1,'ZIP']):\n",
    "        ny_property.loc[missing_zips[i],'ZIP'] = ny_property.loc[missing_zips[i]-1,'ZIP']"
   ]
  },
  {
   "cell_type": "code",
   "execution_count": 7,
   "metadata": {
    "ExecuteTime": {
     "end_time": "2021-02-08T17:33:24.188815Z",
     "start_time": "2021-02-08T17:33:24.184016Z"
    }
   },
   "outputs": [
    {
     "data": {
      "text/plain": [
       "16437"
      ]
     },
     "execution_count": 7,
     "metadata": {},
     "output_type": "execute_result"
    }
   ],
   "source": [
    "missing_zips = np.where(pd.isnull(ny_property['ZIP']))[0]\n",
    "len(missing_zips)"
   ]
  },
  {
   "cell_type": "code",
   "execution_count": 8,
   "metadata": {
    "ExecuteTime": {
     "end_time": "2021-02-08T17:34:53.201140Z",
     "start_time": "2021-02-08T17:33:24.191722Z"
    }
   },
   "outputs": [],
   "source": [
    "# fill in rest of the missing zips with the zip from the record above\n",
    "for i in range(len(missing_zips)):\n",
    "    ny_property.loc[missing_zips[i],'ZIP'] = ny_property.loc[missing_zips[i]-1,'ZIP']"
   ]
  },
  {
   "cell_type": "code",
   "execution_count": 9,
   "metadata": {
    "ExecuteTime": {
     "end_time": "2021-02-08T17:34:53.208078Z",
     "start_time": "2021-02-08T17:34:53.203518Z"
    }
   },
   "outputs": [
    {
     "data": {
      "text/plain": [
       "0"
      ]
     },
     "execution_count": 9,
     "metadata": {},
     "output_type": "execute_result"
    }
   ],
   "source": [
    "missing_zips = np.where(pd.isnull(ny_property['ZIP']))[0]\n",
    "len(missing_zips)"
   ]
  },
  {
   "cell_type": "code",
   "execution_count": 10,
   "metadata": {
    "ExecuteTime": {
     "end_time": "2021-02-08T17:34:53.230220Z",
     "start_time": "2021-02-08T17:34:53.209563Z"
    }
   },
   "outputs": [
    {
     "data": {
      "text/plain": [
       "56264"
      ]
     },
     "execution_count": 10,
     "metadata": {},
     "output_type": "execute_result"
    }
   ],
   "source": [
    "# filling in missing value for STORIES\n",
    "temp = ny_property[ny_property['STORIES'].isnull()]\n",
    "len(temp)"
   ]
  },
  {
   "cell_type": "code",
   "execution_count": 11,
   "metadata": {
    "ExecuteTime": {
     "end_time": "2021-02-08T17:34:53.242746Z",
     "start_time": "2021-02-08T17:34:53.232349Z"
    },
    "scrolled": true
   },
   "outputs": [
    {
     "data": {
      "text/plain": [
       "1B    24736\n",
       "4     22354\n",
       "3      4635\n",
       "2      3435\n",
       "1       897\n",
       "2C      138\n",
       "2B       34\n",
       "2A       30\n",
       "1A        5\n",
       "Name: TAXCLASS, dtype: int64"
      ]
     },
     "execution_count": 11,
     "metadata": {},
     "output_type": "execute_result"
    }
   ],
   "source": [
    "# groupby TAXCLASS to fill in missing value\n",
    "temp['TAXCLASS'].value_counts()"
   ]
  },
  {
   "cell_type": "code",
   "execution_count": 12,
   "metadata": {
    "ExecuteTime": {
     "end_time": "2021-02-08T17:34:53.297610Z",
     "start_time": "2021-02-08T17:34:53.244361Z"
    }
   },
   "outputs": [
    {
     "name": "stdout",
     "output_type": "stream",
     "text": [
      "TAXCLASS\n",
      "1      2.111641\n",
      "1A     1.656837\n",
      "1B     4.000000\n",
      "1C     3.052748\n",
      "1D     1.068966\n",
      "2     16.095110\n",
      "2A     2.844574\n",
      "2B     4.004494\n",
      "2C     4.745097\n",
      "3      1.333333\n",
      "4      5.446968\n",
      "Name: STORIES, dtype: float64\n"
     ]
    }
   ],
   "source": [
    "mean_stories = ny_property.groupby('TAXCLASS')['STORIES'].mean()\n",
    "print(mean_stories)"
   ]
  },
  {
   "cell_type": "code",
   "execution_count": 13,
   "metadata": {
    "ExecuteTime": {
     "end_time": "2021-02-08T17:34:53.304661Z",
     "start_time": "2021-02-08T17:34:53.299556Z"
    }
   },
   "outputs": [
    {
     "data": {
      "text/plain": [
       "0"
      ]
     },
     "execution_count": 13,
     "metadata": {},
     "output_type": "execute_result"
    }
   ],
   "source": [
    "len(ny_property[ny_property['STORIES']==0])"
   ]
  },
  {
   "cell_type": "code",
   "execution_count": 14,
   "metadata": {
    "ExecuteTime": {
     "end_time": "2021-02-08T17:34:54.005074Z",
     "start_time": "2021-02-08T17:34:53.306583Z"
    }
   },
   "outputs": [],
   "source": [
    "ny_property['STORIES']=ny_property['STORIES'].fillna(0)\n",
    "for i in mean_stories.index:\n",
    "    ny_property.loc[(ny_property['STORIES']==0)&(ny_property['TAXCLASS']==i),'STORIES'] = mean_stories[i]"
   ]
  },
  {
   "cell_type": "code",
   "execution_count": 15,
   "metadata": {
    "ExecuteTime": {
     "end_time": "2021-02-08T17:34:54.263524Z",
     "start_time": "2021-02-08T17:34:54.007518Z"
    }
   },
   "outputs": [
    {
     "name": "stdout",
     "output_type": "stream",
     "text": [
      "TAXCLASS\n",
      "1     5.698435e+05\n",
      "1A    3.352842e+05\n",
      "1B    5.613639e+05\n",
      "1C    7.615359e+05\n",
      "1D    2.233614e+07\n",
      "2     7.998018e+05\n",
      "2A    8.640037e+05\n",
      "2B    1.252989e+06\n",
      "2C    7.728799e+05\n",
      "3     1.112765e+05\n",
      "4     3.211928e+06\n",
      "Name: FULLVAL, dtype: float64\n"
     ]
    }
   ],
   "source": [
    "# filling in missing value for FULLVAL, AVLAND, AVTOT\n",
    "# calculate means for these three fields by TAXCLASS\n",
    "ny_property['FULLVAL'].replace('NaN',0)\n",
    "temp = ny_property[ny_property['FULLVAL']!=0]\n",
    "mean_fullval = temp.groupby('TAXCLASS')['FULLVAL'].mean()\n",
    "print(mean_fullval)"
   ]
  },
  {
   "cell_type": "code",
   "execution_count": 16,
   "metadata": {
    "ExecuteTime": {
     "end_time": "2021-02-08T17:34:54.513146Z",
     "start_time": "2021-02-08T17:34:54.265419Z"
    }
   },
   "outputs": [
    {
     "name": "stdout",
     "output_type": "stream",
     "text": [
      "TAXCLASS\n",
      "1      14896.433976\n",
      "1A      2247.369138\n",
      "1B     14781.268478\n",
      "1C      8225.658898\n",
      "1D    709303.793103\n",
      "2      90830.095031\n",
      "2A     31363.390619\n",
      "2B     54446.810503\n",
      "2C     25639.066531\n",
      "3      43368.352941\n",
      "4     600949.433397\n",
      "Name: AVLAND, dtype: float64\n"
     ]
    }
   ],
   "source": [
    "ny_property['AVLAND'].replace('NaN',0)\n",
    "temp_avland = ny_property[ny_property['AVLAND']!=0]\n",
    "mean_avland = temp_avland.groupby('TAXCLASS')['AVLAND'].mean()\n",
    "print(mean_avland)"
   ]
  },
  {
   "cell_type": "code",
   "execution_count": 17,
   "metadata": {
    "ExecuteTime": {
     "end_time": "2021-02-08T17:34:54.761497Z",
     "start_time": "2021-02-08T17:34:54.515463Z"
    }
   },
   "outputs": [
    {
     "name": "stdout",
     "output_type": "stream",
     "text": [
      "TAXCLASS\n",
      "1      14896.433976\n",
      "1A      2247.369138\n",
      "1B     14781.268478\n",
      "1C      8225.658898\n",
      "1D    709303.793103\n",
      "2      90830.095031\n",
      "2A     31363.390619\n",
      "2B     54446.810503\n",
      "2C     25639.066531\n",
      "3      43368.352941\n",
      "4     600949.433397\n",
      "Name: AVLAND, dtype: float64\n"
     ]
    }
   ],
   "source": [
    "ny_property['AVTOT'].replace('NaN',0)\n",
    "temp_avtot = ny_property[ny_property['AVTOT']!=0]\n",
    "mean_avtot = temp_avtot.groupby('TAXCLASS')['AVTOT'].mean()\n",
    "print(mean_avland)"
   ]
  },
  {
   "cell_type": "code",
   "execution_count": 18,
   "metadata": {
    "ExecuteTime": {
     "end_time": "2021-02-08T17:34:56.675974Z",
     "start_time": "2021-02-08T17:34:54.763047Z"
    }
   },
   "outputs": [
    {
     "name": "stdout",
     "output_type": "stream",
     "text": [
      "CPU times: user 1.86 s, sys: 50.8 ms, total: 1.91 s\n",
      "Wall time: 1.91 s\n"
     ]
    }
   ],
   "source": [
    "%%time\n",
    "for i in mean_fullval.index:\n",
    "    ny_property.loc[(ny_property['FULLVAL']==0)&\\\n",
    "                    (ny_property['TAXCLASS']==i),'FULLVAL'] = mean_fullval[i]\n",
    "    ny_property.loc[(ny_property['AVLAND']==0)&\\\n",
    "                    (ny_property['TAXCLASS']==i),'AVLAND'] = mean_avland[i]\n",
    "    ny_property.loc[(ny_property['AVTOT']==0)&\\\n",
    "                    (ny_property['TAXCLASS']==i),'AVTOT'] = mean_avtot[i]"
   ]
  },
  {
   "cell_type": "code",
   "execution_count": 19,
   "metadata": {
    "ExecuteTime": {
     "end_time": "2021-02-08T17:34:57.243473Z",
     "start_time": "2021-02-08T17:34:56.678390Z"
    }
   },
   "outputs": [],
   "source": [
    "# as these 4 values do not have NAs, we just need to replace 0s. \n",
    "# calculate groupwise average. 1st replace 0 by NAs so they are not counted in calculating mean.\n",
    "ny_property.loc[ny_property['LTFRONT']==0,'LTFRONT']=np.nan\n",
    "ny_property.loc[ny_property['LTDEPTH']==0,'LTDEPTH']=np.nan\n",
    "ny_property.loc[ny_property['BLDFRONT']==0,'BLDFRONT']=np.nan\n",
    "ny_property.loc[ny_property['BLDDEPTH']==0,'BLDDEPTH']=np.nan\n"
   ]
  },
  {
   "cell_type": "code",
   "execution_count": 20,
   "metadata": {
    "ExecuteTime": {
     "end_time": "2021-02-08T17:34:57.585008Z",
     "start_time": "2021-02-08T17:34:57.246851Z"
    }
   },
   "outputs": [],
   "source": [
    "# calculate mean now (mean function ignores NAs but not 0s hence we converted 0 to NA)\n",
    "mean_LTFRONT=ny_property.groupby(ny_property['TAXCLASS'])['LTFRONT'].mean()\n",
    "mean_LTDEPTH=ny_property.groupby(ny_property['TAXCLASS'])['LTDEPTH'].mean()\n",
    "mean_BLDFRONT=ny_property.groupby(ny_property['TAXCLASS'])['BLDFRONT'].mean()\n",
    "mean_BLDDEPTH=ny_property.groupby(ny_property['TAXCLASS'])['BLDDEPTH'].mean()\n"
   ]
  },
  {
   "cell_type": "code",
   "execution_count": 21,
   "metadata": {
    "ExecuteTime": {
     "end_time": "2021-02-08T17:35:00.227132Z",
     "start_time": "2021-02-08T17:34:57.586952Z"
    }
   },
   "outputs": [],
   "source": [
    "# imput values\n",
    "for i in mean_LTFRONT.index:\n",
    "    ny_property.loc[(ny_property['LTFRONT'].isnull())&\\\n",
    "                    (ny_property['TAXCLASS']==i),'LTFRONT']=mean_LTFRONT[i]    \n",
    "    ny_property.loc[(ny_property['LTDEPTH'].isnull())&\\\n",
    "                    (ny_property['TAXCLASS']==i),'LTDEPTH']=mean_LTDEPTH[i]\n",
    "    ny_property.loc[(ny_property['BLDFRONT'].isnull())&\\\n",
    "                    (ny_property['TAXCLASS']==i),'BLDFRONT']=mean_BLDFRONT[i]\n",
    "    ny_property.loc[(ny_property['BLDDEPTH'].isnull())&\\\n",
    "                    (ny_property['TAXCLASS']==i),'BLDDEPTH']=mean_BLDDEPTH[i]\n"
   ]
  },
  {
   "cell_type": "markdown",
   "metadata": {},
   "source": [
    "### Create new variables"
   ]
  },
  {
   "cell_type": "code",
   "execution_count": 22,
   "metadata": {
    "ExecuteTime": {
     "end_time": "2021-02-08T17:35:01.017639Z",
     "start_time": "2021-02-08T17:35:00.233805Z"
    }
   },
   "outputs": [],
   "source": [
    "#convert zip to integer rather than a float\n",
    "ny_property['ZIP'] = ny_property['ZIP'].astype(str)\n",
    "ny_property['zip3'] = ny_property['ZIP'].str[:3]"
   ]
  },
  {
   "cell_type": "code",
   "execution_count": 23,
   "metadata": {
    "ExecuteTime": {
     "end_time": "2021-02-08T17:35:01.041850Z",
     "start_time": "2021-02-08T17:35:01.022786Z"
    }
   },
   "outputs": [],
   "source": [
    "ny_property['ltsize'] = ny_property['LTFRONT'] * ny_property['LTDEPTH']\n",
    "ny_property['bldsize'] = ny_property['BLDFRONT'] * ny_property['BLDDEPTH']\n",
    "ny_property['bldvol'] = ny_property['bldsize'] * ny_property['STORIES']"
   ]
  },
  {
   "cell_type": "code",
   "execution_count": 24,
   "metadata": {
    "ExecuteTime": {
     "end_time": "2021-02-08T17:35:01.108825Z",
     "start_time": "2021-02-08T17:35:01.044015Z"
    }
   },
   "outputs": [],
   "source": [
    "# create measure of how normal a property is\n",
    "ny_property['r1'] = ny_property['FULLVAL'] / ny_property['ltsize']\n",
    "ny_property['r2'] = ny_property['FULLVAL'] / ny_property['bldsize']\n",
    "ny_property['r3'] = ny_property['FULLVAL'] / ny_property['bldvol']\n",
    "ny_property['r4'] = ny_property['AVLAND'] / ny_property['ltsize']\n",
    "ny_property['r5'] = ny_property['AVLAND'] / ny_property['bldsize']\n",
    "ny_property['r6'] = ny_property['AVLAND'] / ny_property['bldvol']\n",
    "ny_property['r7'] = ny_property['AVTOT'] / ny_property['ltsize']\n",
    "ny_property['r8'] = ny_property['AVTOT'] / ny_property['bldsize']\n",
    "ny_property['r9'] = ny_property['AVTOT'] / ny_property['bldvol']\n"
   ]
  },
  {
   "cell_type": "code",
   "execution_count": 25,
   "metadata": {
    "ExecuteTime": {
     "end_time": "2021-02-08T17:35:03.718160Z",
     "start_time": "2021-02-08T17:35:01.111168Z"
    }
   },
   "outputs": [],
   "source": [
    "ninevars = ['r1','r2','r3','r4','r5','r6','r7','r8','r9']\n",
    "zip5_mean = ny_property.groupby('ZIP')[ninevars].mean()\n",
    "zip3_mean = ny_property.groupby('zip3')[ninevars].mean()\n",
    "taxclass_mean = ny_property.groupby('TAXCLASS')[ninevars].mean()\n",
    "borough_mean = ny_property.groupby('B')[ninevars].mean()\n",
    "#join the new variable to table\n",
    "ny_property = ny_property.join(zip5_mean, on = 'ZIP', rsuffix= '_zip5')\n",
    "ny_property = ny_property.join(zip3_mean, on = 'zip3', rsuffix= '_zip3')\n",
    "ny_property = ny_property.join(taxclass_mean, on = 'TAXCLASS', rsuffix= '_taxclass')\n",
    "ny_property = ny_property.join(borough_mean, on = 'B', rsuffix= '_boro')\n",
    "rsuffix = ['_zip5','_zip3','_taxclass','_boro']\n",
    "for var in ninevars:\n",
    "    for r in rsuffix:\n",
    "        ny_property[str(var)+r] = ny_property[var] / ny_property[str(var)+r]"
   ]
  },
  {
   "cell_type": "code",
   "execution_count": 26,
   "metadata": {
    "ExecuteTime": {
     "end_time": "2021-02-08T17:35:03.724407Z",
     "start_time": "2021-02-08T17:35:03.720220Z"
    },
    "scrolled": true
   },
   "outputs": [],
   "source": [
    "list1 = []\n",
    "list1.append('RECORD')\n",
    "for var in ninevars:\n",
    "    list1.append(str(var))\n",
    "    for r in rsuffix:\n",
    "        list1.append(str(var)+r)\n"
   ]
  },
  {
   "cell_type": "code",
   "execution_count": 27,
   "metadata": {
    "ExecuteTime": {
     "end_time": "2021-02-08T17:35:05.172619Z",
     "start_time": "2021-02-08T17:35:03.726863Z"
    }
   },
   "outputs": [],
   "source": [
    "data=ny_property.copy()"
   ]
  },
  {
   "cell_type": "code",
   "execution_count": 28,
   "metadata": {
    "ExecuteTime": {
     "end_time": "2021-02-08T17:35:17.754179Z",
     "start_time": "2021-02-08T17:35:05.174911Z"
    }
   },
   "outputs": [],
   "source": [
    "# drop other variables except the ones created\n",
    "for col in data.columns:\n",
    "    if col not in list1:\n",
    "        data = data.drop(col,1)"
   ]
  },
  {
   "cell_type": "code",
   "execution_count": 29,
   "metadata": {
    "ExecuteTime": {
     "end_time": "2021-02-08T17:35:17.774920Z",
     "start_time": "2021-02-08T17:35:17.757101Z"
    }
   },
   "outputs": [
    {
     "data": {
      "text/html": [
       "<div>\n",
       "<style scoped>\n",
       "    .dataframe tbody tr th:only-of-type {\n",
       "        vertical-align: middle;\n",
       "    }\n",
       "\n",
       "    .dataframe tbody tr th {\n",
       "        vertical-align: top;\n",
       "    }\n",
       "\n",
       "    .dataframe thead th {\n",
       "        text-align: right;\n",
       "    }\n",
       "</style>\n",
       "<table border=\"1\" class=\"dataframe\">\n",
       "  <thead>\n",
       "    <tr style=\"text-align: right;\">\n",
       "      <th></th>\n",
       "      <th>RECORD</th>\n",
       "      <th>r1</th>\n",
       "      <th>r2</th>\n",
       "      <th>r3</th>\n",
       "      <th>r4</th>\n",
       "      <th>r5</th>\n",
       "      <th>r6</th>\n",
       "      <th>r7</th>\n",
       "      <th>r8</th>\n",
       "      <th>r9</th>\n",
       "      <th>...</th>\n",
       "      <th>r9_taxclass</th>\n",
       "      <th>r1_boro</th>\n",
       "      <th>r2_boro</th>\n",
       "      <th>r3_boro</th>\n",
       "      <th>r4_boro</th>\n",
       "      <th>r5_boro</th>\n",
       "      <th>r6_boro</th>\n",
       "      <th>r7_boro</th>\n",
       "      <th>r8_boro</th>\n",
       "      <th>r9_boro</th>\n",
       "    </tr>\n",
       "  </thead>\n",
       "  <tbody>\n",
       "    <tr>\n",
       "      <th>0</th>\n",
       "      <td>1</td>\n",
       "      <td>40.917782</td>\n",
       "      <td>3784.190253</td>\n",
       "      <td>694.733351</td>\n",
       "      <td>8.079350</td>\n",
       "      <td>747.200744</td>\n",
       "      <td>137.177373</td>\n",
       "      <td>18.413002</td>\n",
       "      <td>1702.885614</td>\n",
       "      <td>312.630008</td>\n",
       "      <td>...</td>\n",
       "      <td>2.624110</td>\n",
       "      <td>0.114401</td>\n",
       "      <td>6.878229</td>\n",
       "      <td>4.993136</td>\n",
       "      <td>0.234725</td>\n",
       "      <td>11.759224</td>\n",
       "      <td>6.071127</td>\n",
       "      <td>0.197696</td>\n",
       "      <td>11.818277</td>\n",
       "      <td>9.069199</td>\n",
       "    </tr>\n",
       "    <tr>\n",
       "      <th>1</th>\n",
       "      <td>2</td>\n",
       "      <td>53655.384245</td>\n",
       "      <td>34269.909866</td>\n",
       "      <td>6291.557172</td>\n",
       "      <td>3961.860416</td>\n",
       "      <td>2530.456193</td>\n",
       "      <td>464.562348</td>\n",
       "      <td>24144.922910</td>\n",
       "      <td>15421.459440</td>\n",
       "      <td>2831.200728</td>\n",
       "      <td>...</td>\n",
       "      <td>23.764139</td>\n",
       "      <td>150.013517</td>\n",
       "      <td>62.289753</td>\n",
       "      <td>45.218210</td>\n",
       "      <td>115.101891</td>\n",
       "      <td>39.823571</td>\n",
       "      <td>20.560366</td>\n",
       "      <td>259.238195</td>\n",
       "      <td>107.027200</td>\n",
       "      <td>82.131345</td>\n",
       "    </tr>\n",
       "    <tr>\n",
       "      <th>2</th>\n",
       "      <td>3</td>\n",
       "      <td>261.796157</td>\n",
       "      <td>261.796157</td>\n",
       "      <td>87.265386</td>\n",
       "      <td>97.551991</td>\n",
       "      <td>97.551991</td>\n",
       "      <td>32.517330</td>\n",
       "      <td>117.808271</td>\n",
       "      <td>117.808271</td>\n",
       "      <td>39.269424</td>\n",
       "      <td>...</td>\n",
       "      <td>0.329614</td>\n",
       "      <td>0.731948</td>\n",
       "      <td>0.475847</td>\n",
       "      <td>0.627187</td>\n",
       "      <td>2.834128</td>\n",
       "      <td>1.535244</td>\n",
       "      <td>1.439136</td>\n",
       "      <td>1.264879</td>\n",
       "      <td>0.817607</td>\n",
       "      <td>1.139181</td>\n",
       "    </tr>\n",
       "    <tr>\n",
       "      <th>3</th>\n",
       "      <td>4</td>\n",
       "      <td>89.714219</td>\n",
       "      <td>836.980890</td>\n",
       "      <td>418.490445</td>\n",
       "      <td>34.913021</td>\n",
       "      <td>325.717946</td>\n",
       "      <td>162.858973</td>\n",
       "      <td>40.371399</td>\n",
       "      <td>376.641401</td>\n",
       "      <td>188.320700</td>\n",
       "      <td>...</td>\n",
       "      <td>1.580700</td>\n",
       "      <td>0.250829</td>\n",
       "      <td>1.521315</td>\n",
       "      <td>3.007743</td>\n",
       "      <td>1.014310</td>\n",
       "      <td>5.126053</td>\n",
       "      <td>7.207730</td>\n",
       "      <td>0.433458</td>\n",
       "      <td>2.613947</td>\n",
       "      <td>5.463065</td>\n",
       "    </tr>\n",
       "    <tr>\n",
       "      <th>4</th>\n",
       "      <td>5</td>\n",
       "      <td>669.074647</td>\n",
       "      <td>53676.325646</td>\n",
       "      <td>53676.325646</td>\n",
       "      <td>297.434763</td>\n",
       "      <td>23861.620343</td>\n",
       "      <td>23861.620343</td>\n",
       "      <td>301.083591</td>\n",
       "      <td>24154.346541</td>\n",
       "      <td>24154.346541</td>\n",
       "      <td>...</td>\n",
       "      <td>202.743398</td>\n",
       "      <td>1.870646</td>\n",
       "      <td>97.563288</td>\n",
       "      <td>385.778484</td>\n",
       "      <td>8.641219</td>\n",
       "      <td>375.527127</td>\n",
       "      <td>1056.055550</td>\n",
       "      <td>3.232662</td>\n",
       "      <td>167.634723</td>\n",
       "      <td>700.702336</td>\n",
       "    </tr>\n",
       "  </tbody>\n",
       "</table>\n",
       "<p>5 rows × 46 columns</p>\n",
       "</div>"
      ],
      "text/plain": [
       "   RECORD            r1            r2            r3           r4  \\\n",
       "0       1     40.917782   3784.190253    694.733351     8.079350   \n",
       "1       2  53655.384245  34269.909866   6291.557172  3961.860416   \n",
       "2       3    261.796157    261.796157     87.265386    97.551991   \n",
       "3       4     89.714219    836.980890    418.490445    34.913021   \n",
       "4       5    669.074647  53676.325646  53676.325646   297.434763   \n",
       "\n",
       "             r5            r6            r7            r8            r9  ...  \\\n",
       "0    747.200744    137.177373     18.413002   1702.885614    312.630008  ...   \n",
       "1   2530.456193    464.562348  24144.922910  15421.459440   2831.200728  ...   \n",
       "2     97.551991     32.517330    117.808271    117.808271     39.269424  ...   \n",
       "3    325.717946    162.858973     40.371399    376.641401    188.320700  ...   \n",
       "4  23861.620343  23861.620343    301.083591  24154.346541  24154.346541  ...   \n",
       "\n",
       "   r9_taxclass     r1_boro    r2_boro     r3_boro     r4_boro     r5_boro  \\\n",
       "0     2.624110    0.114401   6.878229    4.993136    0.234725   11.759224   \n",
       "1    23.764139  150.013517  62.289753   45.218210  115.101891   39.823571   \n",
       "2     0.329614    0.731948   0.475847    0.627187    2.834128    1.535244   \n",
       "3     1.580700    0.250829   1.521315    3.007743    1.014310    5.126053   \n",
       "4   202.743398    1.870646  97.563288  385.778484    8.641219  375.527127   \n",
       "\n",
       "       r6_boro     r7_boro     r8_boro     r9_boro  \n",
       "0     6.071127    0.197696   11.818277    9.069199  \n",
       "1    20.560366  259.238195  107.027200   82.131345  \n",
       "2     1.439136    1.264879    0.817607    1.139181  \n",
       "3     7.207730    0.433458    2.613947    5.463065  \n",
       "4  1056.055550    3.232662  167.634723  700.702336  \n",
       "\n",
       "[5 rows x 46 columns]"
      ]
     },
     "execution_count": 29,
     "metadata": {},
     "output_type": "execute_result"
    }
   ],
   "source": [
    "data.head()"
   ]
  },
  {
   "cell_type": "code",
   "execution_count": 30,
   "metadata": {
    "ExecuteTime": {
     "end_time": "2021-02-08T17:35:19.397092Z",
     "start_time": "2021-02-08T17:35:17.776632Z"
    }
   },
   "outputs": [],
   "source": [
    "stats = data.describe().transpose()"
   ]
  },
  {
   "cell_type": "code",
   "execution_count": 31,
   "metadata": {
    "ExecuteTime": {
     "end_time": "2021-02-08T17:35:19.491392Z",
     "start_time": "2021-02-08T17:35:19.399422Z"
    }
   },
   "outputs": [],
   "source": [
    "stats.to_excel('stats_on_vars.xlsx')"
   ]
  },
  {
   "cell_type": "code",
   "execution_count": 32,
   "metadata": {
    "ExecuteTime": {
     "end_time": "2021-02-08T17:35:19.885903Z",
     "start_time": "2021-02-08T17:35:19.494083Z"
    }
   },
   "outputs": [],
   "source": [
    "#z scale the variables before PCA\n",
    "data_orig = data.copy()\n",
    "data.drop(columns='RECORD',inplace=True)"
   ]
  },
  {
   "cell_type": "code",
   "execution_count": 33,
   "metadata": {
    "ExecuteTime": {
     "end_time": "2021-02-08T17:35:21.003684Z",
     "start_time": "2021-02-08T17:35:19.888018Z"
    }
   },
   "outputs": [],
   "source": [
    "data = (data-data.mean())/data.std()"
   ]
  },
  {
   "cell_type": "code",
   "execution_count": 34,
   "metadata": {
    "ExecuteTime": {
     "end_time": "2021-02-08T17:35:23.200802Z",
     "start_time": "2021-02-08T17:35:21.006373Z"
    }
   },
   "outputs": [
    {
     "data": {
      "text/plain": [
       "(0.0, 1.0)"
      ]
     },
     "execution_count": 34,
     "metadata": {},
     "output_type": "execute_result"
    },
    {
     "data": {
      "image/png": "[encoded data removed]",
      "text/plain": [
       "<Figure size 432x288 with 1 Axes>"
      ]
     },
     "metadata": {
      "needs_background": "light"
     },
     "output_type": "display_data"
    }
   ],
   "source": [
    "#compute PC components and look at the screen plot\n",
    "\n",
    "#If 0 < n_components < 1 and svd_solver == 'full', \n",
    "#select the number of components such that the amount of variance that needs \n",
    "#to be explained is greater than the percentage specified by n_components.\n",
    "pca = PCA(n_components = 0.99,svd_solver = 'full')\n",
    "pca.fit(data)\n",
    "plt.plot(np.cumsum(pca.explained_variance_ratio_))\n",
    "plt.xlabel('Number of components')\n",
    "plt.ylabel('Cumulative explained variance')\n",
    "plt.yticks(np.arange(0.05, 1.1, step=.1))\n",
    "plt.xticks(np.arange(0, 20, step=2))\n",
    "plt.axvline(x=6, linestyle='--',color='red')\n",
    "plt.ylim(0,1)"
   ]
  },
  {
   "cell_type": "code",
   "execution_count": 35,
   "metadata": {
    "ExecuteTime": {
     "end_time": "2021-02-08T17:35:27.556670Z",
     "start_time": "2021-02-08T17:35:23.202475Z"
    }
   },
   "outputs": [
    {
     "data": {
      "text/plain": [
       "(1070994, 6)"
      ]
     },
     "execution_count": 35,
     "metadata": {},
     "output_type": "execute_result"
    }
   ],
   "source": [
    "#decide to keep 6 PCs\n",
    "pca = PCA(n_components = 6)\n",
    "princ_comps = pca.fit_transform(data)\n",
    "data_pca = pd.DataFrame(princ_comps,columns = ['PC'+str(i) for i in range(1,pca.n_components_+1)])\n",
    "data_pca.shape"
   ]
  },
  {
   "cell_type": "code",
   "execution_count": 36,
   "metadata": {
    "ExecuteTime": {
     "end_time": "2021-02-08T17:35:28.068724Z",
     "start_time": "2021-02-08T17:35:27.574215Z"
    }
   },
   "outputs": [
    {
     "data": {
      "text/html": [
       "<div>\n",
       "<style scoped>\n",
       "    .dataframe tbody tr th:only-of-type {\n",
       "        vertical-align: middle;\n",
       "    }\n",
       "\n",
       "    .dataframe tbody tr th {\n",
       "        vertical-align: top;\n",
       "    }\n",
       "\n",
       "    .dataframe thead th {\n",
       "        text-align: right;\n",
       "    }\n",
       "</style>\n",
       "<table border=\"1\" class=\"dataframe\">\n",
       "  <thead>\n",
       "    <tr style=\"text-align: right;\">\n",
       "      <th></th>\n",
       "      <th>PC1</th>\n",
       "      <th>PC2</th>\n",
       "      <th>PC3</th>\n",
       "      <th>PC4</th>\n",
       "      <th>PC5</th>\n",
       "      <th>PC6</th>\n",
       "    </tr>\n",
       "  </thead>\n",
       "  <tbody>\n",
       "    <tr>\n",
       "      <th>count</th>\n",
       "      <td>1.070994e+06</td>\n",
       "      <td>1.070994e+06</td>\n",
       "      <td>1.070994e+06</td>\n",
       "      <td>1.070994e+06</td>\n",
       "      <td>1.070994e+06</td>\n",
       "      <td>1.070994e+06</td>\n",
       "    </tr>\n",
       "    <tr>\n",
       "      <th>mean</th>\n",
       "      <td>-2.665924e-18</td>\n",
       "      <td>-4.002954e-16</td>\n",
       "      <td>5.165011e-17</td>\n",
       "      <td>4.714516e-17</td>\n",
       "      <td>2.388794e-16</td>\n",
       "      <td>-4.783743e-16</td>\n",
       "    </tr>\n",
       "    <tr>\n",
       "      <th>std</th>\n",
       "      <td>1.000000e+00</td>\n",
       "      <td>1.000000e+00</td>\n",
       "      <td>1.000000e+00</td>\n",
       "      <td>1.000000e+00</td>\n",
       "      <td>1.000000e+00</td>\n",
       "      <td>1.000000e+00</td>\n",
       "    </tr>\n",
       "    <tr>\n",
       "      <th>min</th>\n",
       "      <td>-5.423878e-02</td>\n",
       "      <td>-1.387192e+02</td>\n",
       "      <td>-4.465509e+02</td>\n",
       "      <td>-3.631831e+02</td>\n",
       "      <td>-3.499267e+02</td>\n",
       "      <td>-3.352532e+02</td>\n",
       "    </tr>\n",
       "    <tr>\n",
       "      <th>25%</th>\n",
       "      <td>-2.844246e-02</td>\n",
       "      <td>-6.242250e-02</td>\n",
       "      <td>-7.041944e-03</td>\n",
       "      <td>-8.103322e-02</td>\n",
       "      <td>-5.505848e-02</td>\n",
       "      <td>-3.206240e-02</td>\n",
       "    </tr>\n",
       "    <tr>\n",
       "      <th>50%</th>\n",
       "      <td>-1.044346e-02</td>\n",
       "      <td>-2.825168e-02</td>\n",
       "      <td>1.778053e-03</td>\n",
       "      <td>-3.531658e-03</td>\n",
       "      <td>-1.110122e-02</td>\n",
       "      <td>-1.197026e-03</td>\n",
       "    </tr>\n",
       "    <tr>\n",
       "      <th>75%</th>\n",
       "      <td>3.780853e-04</td>\n",
       "      <td>4.758921e-03</td>\n",
       "      <td>1.667827e-02</td>\n",
       "      <td>3.730556e-02</td>\n",
       "      <td>1.083306e-02</td>\n",
       "      <td>5.639531e-02</td>\n",
       "    </tr>\n",
       "    <tr>\n",
       "      <th>max</th>\n",
       "      <td>8.006021e+02</td>\n",
       "      <td>5.359121e+02</td>\n",
       "      <td>4.807969e+02</td>\n",
       "      <td>4.084298e+02</td>\n",
       "      <td>4.391587e+02</td>\n",
       "      <td>4.292597e+02</td>\n",
       "    </tr>\n",
       "  </tbody>\n",
       "</table>\n",
       "</div>"
      ],
      "text/plain": [
       "                PC1           PC2           PC3           PC4           PC5  \\\n",
       "count  1.070994e+06  1.070994e+06  1.070994e+06  1.070994e+06  1.070994e+06   \n",
       "mean  -2.665924e-18 -4.002954e-16  5.165011e-17  4.714516e-17  2.388794e-16   \n",
       "std    1.000000e+00  1.000000e+00  1.000000e+00  1.000000e+00  1.000000e+00   \n",
       "min   -5.423878e-02 -1.387192e+02 -4.465509e+02 -3.631831e+02 -3.499267e+02   \n",
       "25%   -2.844246e-02 -6.242250e-02 -7.041944e-03 -8.103322e-02 -5.505848e-02   \n",
       "50%   -1.044346e-02 -2.825168e-02  1.778053e-03 -3.531658e-03 -1.110122e-02   \n",
       "75%    3.780853e-04  4.758921e-03  1.667827e-02  3.730556e-02  1.083306e-02   \n",
       "max    8.006021e+02  5.359121e+02  4.807969e+02  4.084298e+02  4.391587e+02   \n",
       "\n",
       "                PC6  \n",
       "count  1.070994e+06  \n",
       "mean  -4.783743e-16  \n",
       "std    1.000000e+00  \n",
       "min   -3.352532e+02  \n",
       "25%   -3.206240e-02  \n",
       "50%   -1.197026e-03  \n",
       "75%    5.639531e-02  \n",
       "max    4.292597e+02  "
      ]
     },
     "execution_count": 36,
     "metadata": {},
     "output_type": "execute_result"
    }
   ],
   "source": [
    "#z scale the PC \n",
    "pca_mean=data_pca.mean()\n",
    "pca_sd=data_pca.std()\n",
    "data_pca=(data_pca-pca_mean)/pca_sd\n",
    "data_pca.describe()"
   ]
  },
  {
   "cell_type": "code",
   "execution_count": 37,
   "metadata": {
    "ExecuteTime": {
     "end_time": "2021-02-08T17:35:28.169078Z",
     "start_time": "2021-02-08T17:35:28.070968Z"
    }
   },
   "outputs": [],
   "source": [
    "# Model 1\n",
    "# choose the power in the Euclidean distance to be 2\n",
    "p = 2\n",
    "one_over_p = 1/p\n",
    "score1 = (((data_pca).abs()**p).sum(axis = 1))**one_over_p"
   ]
  },
  {
   "cell_type": "code",
   "execution_count": 38,
   "metadata": {
    "ExecuteTime": {
     "end_time": "2021-02-08T17:35:32.032663Z",
     "start_time": "2021-02-08T17:35:28.171788Z"
    }
   },
   "outputs": [],
   "source": [
    "# Model 2: autoencoder error\n",
    "from keras.models import Model\n",
    "from keras.layers import Input,Dense"
   ]
  },
  {
   "cell_type": "code",
   "execution_count": 39,
   "metadata": {
    "ExecuteTime": {
     "end_time": "2021-02-08T17:38:01.768437Z",
     "start_time": "2021-02-08T17:35:32.034130Z"
    }
   },
   "outputs": [
    {
     "name": "stdout",
     "output_type": "stream",
     "text": [
      "Epoch 1/5\n",
      "33469/33469 [==============================] - 29s 847us/step - loss: 0.9706 - val_loss: 0.9766\n",
      "Epoch 2/5\n",
      "33469/33469 [==============================] - 29s 853us/step - loss: 0.8719 - val_loss: 0.9750\n",
      "Epoch 3/5\n",
      "33469/33469 [==============================] - 28s 825us/step - loss: 0.9897 - val_loss: 0.9747\n",
      "Epoch 4/5\n",
      "33469/33469 [==============================] - 27s 806us/step - loss: 0.9385 - val_loss: 0.9746\n",
      "Epoch 5/5\n",
      "33469/33469 [==============================] - 30s 892us/step - loss: 0.6545 - val_loss: 0.9745\n"
     ]
    }
   ],
   "source": [
    "# compress the data records from 6 to 3 dimensions, then expand them back to 6 dimensions\n",
    "# placeholder for input\n",
    "data_in = Input(shape=(6,))\n",
    "# choose 3 as dimension of the encoded data\n",
    "encoded_dim = 3\n",
    "#encoded representation of the data\n",
    "encoded = Dense(encoded_dim,activation = 'tanh')(data_in)\n",
    "# reconstruction of the input\n",
    "decoded = Dense(6,activation='tanh')(encoded)\n",
    "# this model maps the input data to the reconstructed data\n",
    "autoencoder = Model(data_in, decoded)\n",
    "\n",
    "autoencoder.compile(optimizer='adam', loss='mean_squared_error')\n",
    "\n",
    "autoencoder.fit(data_pca,data_pca, epochs=5, shuffle=True, validation_data=(data_pca,data_pca))\n",
    "# choose the power in the Euclidean distance to be 2 again\n",
    "pca_out = autoencoder.predict(data_pca)\n",
    "error = pca_out - data_pca\n",
    "p=2\n",
    "oop=1/p\n",
    "score2 = ((error.abs()**p).sum(axis=1))**oop"
   ]
  },
  {
   "cell_type": "code",
   "execution_count": 40,
   "metadata": {
    "ExecuteTime": {
     "end_time": "2021-02-08T17:38:02.331748Z",
     "start_time": "2021-02-08T17:38:01.771472Z"
    }
   },
   "outputs": [],
   "source": [
    "# average the 2 score raking \n",
    "scores = pd.DataFrame(score1)\n",
    "scores.columns=['score1']\n",
    "scores['score2'] = score2\n",
    "scores['score1 rank'] = scores['score1'].rank()\n",
    "scores['score2 rank'] = scores['score2'].rank()\n",
    "scores['final'] = (scores['score1 rank'] + scores['score2 rank'])/2\n",
    "top_records = scores.sort_values(['final'], ascending = False).head(20).index\n"
   ]
  },
  {
   "cell_type": "code",
   "execution_count": 41,
   "metadata": {
    "ExecuteTime": {
     "end_time": "2021-02-08T17:38:03.411268Z",
     "start_time": "2021-02-08T17:38:02.334810Z"
    }
   },
   "outputs": [
    {
     "data": {
      "text/html": [
       "<div>\n",
       "<style scoped>\n",
       "    .dataframe tbody tr th:only-of-type {\n",
       "        vertical-align: middle;\n",
       "    }\n",
       "\n",
       "    .dataframe tbody tr th {\n",
       "        vertical-align: top;\n",
       "    }\n",
       "\n",
       "    .dataframe thead th {\n",
       "        text-align: right;\n",
       "    }\n",
       "</style>\n",
       "<table border=\"1\" class=\"dataframe\">\n",
       "  <thead>\n",
       "    <tr style=\"text-align: right;\">\n",
       "      <th></th>\n",
       "      <th>RECORD</th>\n",
       "      <th>BBLE</th>\n",
       "      <th>B</th>\n",
       "      <th>BLOCK</th>\n",
       "      <th>LOT</th>\n",
       "      <th>EASEMENT</th>\n",
       "      <th>OWNER</th>\n",
       "      <th>BLDGCL</th>\n",
       "      <th>TAXCLASS</th>\n",
       "      <th>LTFRONT</th>\n",
       "      <th>...</th>\n",
       "      <th>EXTOT2</th>\n",
       "      <th>EXCD2</th>\n",
       "      <th>PERIOD</th>\n",
       "      <th>YEAR</th>\n",
       "      <th>VALTYPE</th>\n",
       "      <th>score1</th>\n",
       "      <th>score2</th>\n",
       "      <th>score1 rank</th>\n",
       "      <th>score2 rank</th>\n",
       "      <th>final</th>\n",
       "    </tr>\n",
       "  </thead>\n",
       "  <tbody>\n",
       "    <tr>\n",
       "      <th>0</th>\n",
       "      <td>1</td>\n",
       "      <td>1000010101</td>\n",
       "      <td>1</td>\n",
       "      <td>1</td>\n",
       "      <td>101</td>\n",
       "      <td>NaN</td>\n",
       "      <td>U S GOVT LAND &amp; BLDGS</td>\n",
       "      <td>P7</td>\n",
       "      <td>4</td>\n",
       "      <td>500</td>\n",
       "      <td>...</td>\n",
       "      <td>8613000.0</td>\n",
       "      <td>NaN</td>\n",
       "      <td>FINAL</td>\n",
       "      <td>2010/11</td>\n",
       "      <td>AC-TR</td>\n",
       "      <td>0.571141</td>\n",
       "      <td>0.440146</td>\n",
       "      <td>1046560.0</td>\n",
       "      <td>1059831.0</td>\n",
       "      <td>1053195.5</td>\n",
       "    </tr>\n",
       "    <tr>\n",
       "      <th>1</th>\n",
       "      <td>2</td>\n",
       "      <td>1000010201</td>\n",
       "      <td>1</td>\n",
       "      <td>1</td>\n",
       "      <td>201</td>\n",
       "      <td>NaN</td>\n",
       "      <td>U S GOVT LAND &amp; BLDGS</td>\n",
       "      <td>Z9</td>\n",
       "      <td>4</td>\n",
       "      <td>27</td>\n",
       "      <td>...</td>\n",
       "      <td>80690400.0</td>\n",
       "      <td>NaN</td>\n",
       "      <td>FINAL</td>\n",
       "      <td>2010/11</td>\n",
       "      <td>AC-TR</td>\n",
       "      <td>24.684915</td>\n",
       "      <td>23.135544</td>\n",
       "      <td>1070739.0</td>\n",
       "      <td>1070738.0</td>\n",
       "      <td>1070738.5</td>\n",
       "    </tr>\n",
       "    <tr>\n",
       "      <th>2</th>\n",
       "      <td>3</td>\n",
       "      <td>1000020001</td>\n",
       "      <td>1</td>\n",
       "      <td>2</td>\n",
       "      <td>1</td>\n",
       "      <td>NaN</td>\n",
       "      <td>DEPT OF GENERAL SERVI</td>\n",
       "      <td>Y7</td>\n",
       "      <td>4</td>\n",
       "      <td>709</td>\n",
       "      <td>...</td>\n",
       "      <td>40179510.0</td>\n",
       "      <td>NaN</td>\n",
       "      <td>FINAL</td>\n",
       "      <td>2010/11</td>\n",
       "      <td>AC-TR</td>\n",
       "      <td>0.152792</td>\n",
       "      <td>0.100953</td>\n",
       "      <td>726630.0</td>\n",
       "      <td>1008652.0</td>\n",
       "      <td>867641.0</td>\n",
       "    </tr>\n",
       "    <tr>\n",
       "      <th>3</th>\n",
       "      <td>4</td>\n",
       "      <td>1000020023</td>\n",
       "      <td>1</td>\n",
       "      <td>2</td>\n",
       "      <td>23</td>\n",
       "      <td>NaN</td>\n",
       "      <td>DEPARTMENT OF BUSINES</td>\n",
       "      <td>T2</td>\n",
       "      <td>4</td>\n",
       "      <td>793</td>\n",
       "      <td>...</td>\n",
       "      <td>15750000.0</td>\n",
       "      <td>NaN</td>\n",
       "      <td>FINAL</td>\n",
       "      <td>2010/11</td>\n",
       "      <td>AC-TR</td>\n",
       "      <td>0.169596</td>\n",
       "      <td>0.119289</td>\n",
       "      <td>787272.0</td>\n",
       "      <td>1020880.0</td>\n",
       "      <td>904076.0</td>\n",
       "    </tr>\n",
       "    <tr>\n",
       "      <th>4</th>\n",
       "      <td>5</td>\n",
       "      <td>1000030001</td>\n",
       "      <td>1</td>\n",
       "      <td>3</td>\n",
       "      <td>1</td>\n",
       "      <td>NaN</td>\n",
       "      <td>PARKS AND RECREATION</td>\n",
       "      <td>Q1</td>\n",
       "      <td>4</td>\n",
       "      <td>323</td>\n",
       "      <td>...</td>\n",
       "      <td>107758350.0</td>\n",
       "      <td>NaN</td>\n",
       "      <td>FINAL</td>\n",
       "      <td>2010/11</td>\n",
       "      <td>AC-TR</td>\n",
       "      <td>30.244381</td>\n",
       "      <td>28.881174</td>\n",
       "      <td>1070777.0</td>\n",
       "      <td>1070785.0</td>\n",
       "      <td>1070781.0</td>\n",
       "    </tr>\n",
       "    <tr>\n",
       "      <th>...</th>\n",
       "      <td>...</td>\n",
       "      <td>...</td>\n",
       "      <td>...</td>\n",
       "      <td>...</td>\n",
       "      <td>...</td>\n",
       "      <td>...</td>\n",
       "      <td>...</td>\n",
       "      <td>...</td>\n",
       "      <td>...</td>\n",
       "      <td>...</td>\n",
       "      <td>...</td>\n",
       "      <td>...</td>\n",
       "      <td>...</td>\n",
       "      <td>...</td>\n",
       "      <td>...</td>\n",
       "      <td>...</td>\n",
       "      <td>...</td>\n",
       "      <td>...</td>\n",
       "      <td>...</td>\n",
       "      <td>...</td>\n",
       "      <td>...</td>\n",
       "    </tr>\n",
       "    <tr>\n",
       "      <th>1070989</th>\n",
       "      <td>1070990</td>\n",
       "      <td>5080500083</td>\n",
       "      <td>5</td>\n",
       "      <td>8050</td>\n",
       "      <td>83</td>\n",
       "      <td>NaN</td>\n",
       "      <td>TOBIN, GALE</td>\n",
       "      <td>A1</td>\n",
       "      <td>1</td>\n",
       "      <td>60</td>\n",
       "      <td>...</td>\n",
       "      <td>NaN</td>\n",
       "      <td>NaN</td>\n",
       "      <td>FINAL</td>\n",
       "      <td>2010/11</td>\n",
       "      <td>AC-TR</td>\n",
       "      <td>0.106922</td>\n",
       "      <td>0.036209</td>\n",
       "      <td>595911.0</td>\n",
       "      <td>829938.0</td>\n",
       "      <td>712924.5</td>\n",
       "    </tr>\n",
       "    <tr>\n",
       "      <th>1070990</th>\n",
       "      <td>1070991</td>\n",
       "      <td>5080500086</td>\n",
       "      <td>5</td>\n",
       "      <td>8050</td>\n",
       "      <td>86</td>\n",
       "      <td>NaN</td>\n",
       "      <td>SHERRI MILINAZZO</td>\n",
       "      <td>A1</td>\n",
       "      <td>1</td>\n",
       "      <td>62</td>\n",
       "      <td>...</td>\n",
       "      <td>NaN</td>\n",
       "      <td>NaN</td>\n",
       "      <td>FINAL</td>\n",
       "      <td>2010/11</td>\n",
       "      <td>AC-TR</td>\n",
       "      <td>0.123535</td>\n",
       "      <td>0.039737</td>\n",
       "      <td>645344.0</td>\n",
       "      <td>858579.0</td>\n",
       "      <td>751961.5</td>\n",
       "    </tr>\n",
       "    <tr>\n",
       "      <th>1070991</th>\n",
       "      <td>1070992</td>\n",
       "      <td>5080500089</td>\n",
       "      <td>5</td>\n",
       "      <td>8050</td>\n",
       "      <td>89</td>\n",
       "      <td>NaN</td>\n",
       "      <td>JOHN GERVASI</td>\n",
       "      <td>A1</td>\n",
       "      <td>1</td>\n",
       "      <td>53</td>\n",
       "      <td>...</td>\n",
       "      <td>NaN</td>\n",
       "      <td>1017.0</td>\n",
       "      <td>FINAL</td>\n",
       "      <td>2010/11</td>\n",
       "      <td>AC-TR</td>\n",
       "      <td>0.120233</td>\n",
       "      <td>0.031719</td>\n",
       "      <td>636542.0</td>\n",
       "      <td>769679.0</td>\n",
       "      <td>703110.5</td>\n",
       "    </tr>\n",
       "    <tr>\n",
       "      <th>1070992</th>\n",
       "      <td>1070993</td>\n",
       "      <td>5080500092</td>\n",
       "      <td>5</td>\n",
       "      <td>8050</td>\n",
       "      <td>92</td>\n",
       "      <td>NaN</td>\n",
       "      <td>RITA M MOOG</td>\n",
       "      <td>A1</td>\n",
       "      <td>1</td>\n",
       "      <td>52</td>\n",
       "      <td>...</td>\n",
       "      <td>NaN</td>\n",
       "      <td>NaN</td>\n",
       "      <td>FINAL</td>\n",
       "      <td>2010/11</td>\n",
       "      <td>AC-TR</td>\n",
       "      <td>0.106143</td>\n",
       "      <td>0.033412</td>\n",
       "      <td>593061.0</td>\n",
       "      <td>798725.0</td>\n",
       "      <td>695893.0</td>\n",
       "    </tr>\n",
       "    <tr>\n",
       "      <th>1070993</th>\n",
       "      <td>1070994</td>\n",
       "      <td>5080500094</td>\n",
       "      <td>5</td>\n",
       "      <td>8050</td>\n",
       "      <td>94</td>\n",
       "      <td>NaN</td>\n",
       "      <td>EDWARD DONOHUE</td>\n",
       "      <td>A1</td>\n",
       "      <td>1</td>\n",
       "      <td>50</td>\n",
       "      <td>...</td>\n",
       "      <td>NaN</td>\n",
       "      <td>NaN</td>\n",
       "      <td>FINAL</td>\n",
       "      <td>2010/11</td>\n",
       "      <td>AC-TR</td>\n",
       "      <td>0.074381</td>\n",
       "      <td>0.026808</td>\n",
       "      <td>414782.0</td>\n",
       "      <td>552077.0</td>\n",
       "      <td>483429.5</td>\n",
       "    </tr>\n",
       "  </tbody>\n",
       "</table>\n",
       "<p>1070994 rows × 37 columns</p>\n",
       "</div>"
      ],
      "text/plain": [
       "          RECORD        BBLE  B  BLOCK  LOT EASEMENT                  OWNER  \\\n",
       "0              1  1000010101  1      1  101      NaN  U S GOVT LAND & BLDGS   \n",
       "1              2  1000010201  1      1  201      NaN  U S GOVT LAND & BLDGS   \n",
       "2              3  1000020001  1      2    1      NaN  DEPT OF GENERAL SERVI   \n",
       "3              4  1000020023  1      2   23      NaN  DEPARTMENT OF BUSINES   \n",
       "4              5  1000030001  1      3    1      NaN   PARKS AND RECREATION   \n",
       "...          ...         ... ..    ...  ...      ...                    ...   \n",
       "1070989  1070990  5080500083  5   8050   83      NaN            TOBIN, GALE   \n",
       "1070990  1070991  5080500086  5   8050   86      NaN       SHERRI MILINAZZO   \n",
       "1070991  1070992  5080500089  5   8050   89      NaN           JOHN GERVASI   \n",
       "1070992  1070993  5080500092  5   8050   92      NaN            RITA M MOOG   \n",
       "1070993  1070994  5080500094  5   8050   94      NaN         EDWARD DONOHUE   \n",
       "\n",
       "        BLDGCL TAXCLASS  LTFRONT  ...       EXTOT2   EXCD2  PERIOD     YEAR  \\\n",
       "0           P7        4      500  ...    8613000.0     NaN   FINAL  2010/11   \n",
       "1           Z9        4       27  ...   80690400.0     NaN   FINAL  2010/11   \n",
       "2           Y7        4      709  ...   40179510.0     NaN   FINAL  2010/11   \n",
       "3           T2        4      793  ...   15750000.0     NaN   FINAL  2010/11   \n",
       "4           Q1        4      323  ...  107758350.0     NaN   FINAL  2010/11   \n",
       "...        ...      ...      ...  ...          ...     ...     ...      ...   \n",
       "1070989     A1        1       60  ...          NaN     NaN   FINAL  2010/11   \n",
       "1070990     A1        1       62  ...          NaN     NaN   FINAL  2010/11   \n",
       "1070991     A1        1       53  ...          NaN  1017.0   FINAL  2010/11   \n",
       "1070992     A1        1       52  ...          NaN     NaN   FINAL  2010/11   \n",
       "1070993     A1        1       50  ...          NaN     NaN   FINAL  2010/11   \n",
       "\n",
       "         VALTYPE     score1     score2  score1 rank  score2 rank      final  \n",
       "0          AC-TR   0.571141   0.440146    1046560.0    1059831.0  1053195.5  \n",
       "1          AC-TR  24.684915  23.135544    1070739.0    1070738.0  1070738.5  \n",
       "2          AC-TR   0.152792   0.100953     726630.0    1008652.0   867641.0  \n",
       "3          AC-TR   0.169596   0.119289     787272.0    1020880.0   904076.0  \n",
       "4          AC-TR  30.244381  28.881174    1070777.0    1070785.0  1070781.0  \n",
       "...          ...        ...        ...          ...          ...        ...  \n",
       "1070989    AC-TR   0.106922   0.036209     595911.0     829938.0   712924.5  \n",
       "1070990    AC-TR   0.123535   0.039737     645344.0     858579.0   751961.5  \n",
       "1070991    AC-TR   0.120233   0.031719     636542.0     769679.0   703110.5  \n",
       "1070992    AC-TR   0.106143   0.033412     593061.0     798725.0   695893.0  \n",
       "1070993    AC-TR   0.074381   0.026808     414782.0     552077.0   483429.5  \n",
       "\n",
       "[1070994 rows x 37 columns]"
      ]
     },
     "execution_count": 41,
     "metadata": {},
     "output_type": "execute_result"
    }
   ],
   "source": [
    "final_df = ny_prop.join(scores)\n",
    "final_df"
   ]
  },
  {
   "cell_type": "code",
   "execution_count": 42,
   "metadata": {
    "ExecuteTime": {
     "end_time": "2021-02-08T17:38:04.525377Z",
     "start_time": "2021-02-08T17:38:03.412973Z"
    }
   },
   "outputs": [],
   "source": [
    "# export top 20 records\n",
    "records_to_return = final_df.sort_values(['final'], ascending = False).head(20)\n",
    "records_to_return.to_excel('Top 20 records.xlsx')\n"
   ]
  },
  {
   "cell_type": "code",
   "execution_count": 43,
   "metadata": {
    "ExecuteTime": {
     "end_time": "2021-02-08T17:38:05.173997Z",
     "start_time": "2021-02-08T17:38:04.528011Z"
    }
   },
   "outputs": [
    {
     "data": {
      "text/plain": [
       "(0.1, 2142747.525661616)"
      ]
     },
     "execution_count": 43,
     "metadata": {},
     "output_type": "execute_result"
    },
    {
     "data": {
      "image/png": "[encoded data removed]",
      "text/plain": [
       "<Figure size 432x288 with 1 Axes>"
      ]
     },
     "metadata": {
      "needs_background": "light"
     },
     "output_type": "display_data"
    }
   ],
   "source": [
    "# plots of scores\n",
    "plt.hist(score1,bins=100,range=(0,1000))\n",
    "plt.yscale('log')\n",
    "plt.ylim(ymin=0.1)"
   ]
  },
  {
   "cell_type": "code",
   "execution_count": 44,
   "metadata": {
    "ExecuteTime": {
     "end_time": "2021-02-08T17:38:05.708979Z",
     "start_time": "2021-02-08T17:38:05.176051Z"
    }
   },
   "outputs": [
    {
     "data": {
      "text/plain": [
       "(0.1, 2142980.8651350504)"
      ]
     },
     "execution_count": 44,
     "metadata": {},
     "output_type": "execute_result"
    },
    {
     "data": {
      "image/png": "[encoded data removed]",
      "text/plain": [
       "<Figure size 432x288 with 1 Axes>"
      ]
     },
     "metadata": {
      "needs_background": "light"
     },
     "output_type": "display_data"
    }
   ],
   "source": [
    "plt.hist(score2,bins=100,range=(0,1000))\n",
    "plt.yscale('log')\n",
    "plt.ylim(ymin=0.1)"
   ]
  },
  {
   "cell_type": "code",
   "execution_count": 45,
   "metadata": {
    "ExecuteTime": {
     "end_time": "2021-02-08T17:38:06.272508Z",
     "start_time": "2021-02-08T17:38:05.711205Z"
    }
   },
   "outputs": [
    {
     "data": {
      "text/plain": [
       "<matplotlib.axes._subplots.AxesSubplot at 0x7fdef2c428b0>"
      ]
     },
     "execution_count": 45,
     "metadata": {},
     "output_type": "execute_result"
    },
    {
     "data": {
      "image/png": "[encoded data removed]",
      "text/plain": [
       "<Figure size 432x288 with 1 Axes>"
      ]
     },
     "metadata": {
      "needs_background": "light"
     },
     "output_type": "display_data"
    }
   ],
   "source": [
    "sns.distplot(scores['final'])"
   ]
  },
  {
   "cell_type": "code",
   "execution_count": null,
   "metadata": {},
   "outputs": [],
   "source": []
  }
 ],
 "metadata": {
  "kernelspec": {
   "display_name": "Python 3",
   "language": "python",
   "name": "python3"
  },
  "language_info": {
   "codemirror_mode": {
    "name": "ipython",
    "version": 3
   },
   "file_extension": ".py",
   "mimetype": "text/x-python",
   "name": "python",
   "nbconvert_exporter": "python",
   "pygments_lexer": "ipython3",
   "version": "3.8.3"
  },
  "varInspector": {
   "cols": {
    "lenName": 16,
    "lenType": 16,
    "lenVar": 40
   },
   "kernels_config": {
    "python": {
     "delete_cmd_postfix": "",
     "delete_cmd_prefix": "del ",
     "library": "var_list.py",
     "varRefreshCmd": "print(var_dic_list())"
    },
    "r": {
     "delete_cmd_postfix": ") ",
     "delete_cmd_prefix": "rm(",
     "library": "var_list.r",
     "varRefreshCmd": "cat(var_dic_list()) "
    }
   },
   "types_to_exclude": [
    "module",
    "function",
    "builtin_function_or_method",
    "instance",
    "_Feature"
   ],
   "window_display": false
  }
 },
 "nbformat": 4,
 "nbformat_minor": 4
}
